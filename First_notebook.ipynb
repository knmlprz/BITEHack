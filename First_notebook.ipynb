{
 "cells": [
  {
   "cell_type": "code",
   "execution_count": 4,
   "id": "c0b15505-4692-42ef-895e-4a7b8f0d63f1",
   "metadata": {},
   "outputs": [],
   "source": [
    "import transformers\n",
    "import shap\n",
    "import numpy\n",
    "import matplotlib.pylab as plt\n",
    "import pandas as pd"
   ]
  },
  {
   "cell_type": "code",
   "execution_count": 5,
   "id": "f4e1967e-8309-4052-8c46-dbb4605d8fbf",
   "metadata": {},
   "outputs": [],
   "source": [
    "import numpy as np\n",
    "import scipy"
   ]
  },
  {
   "cell_type": "code",
   "execution_count": 6,
   "id": "e726978e-2a87-4263-9220-9d2858a89322",
   "metadata": {},
   "outputs": [],
   "source": [
    "from transformers import pipeline\n",
    "from transformers import AutoTokenizer, AutoModelForSequenceClassification"
   ]
  },
  {
   "cell_type": "code",
   "execution_count": 10,
   "id": "d0331ce5-a0e4-4a12-b049-f0f6c038658e",
   "metadata": {},
   "outputs": [],
   "source": [
    "pipe = pipeline(\"text-classification\", model=\"cardiffnlp/twitter-roberta-base-sentiment\")\n",
    "explainer = shap.Explainer(pipe)"
   ]
  },
  {
   "cell_type": "code",
   "execution_count": 12,
   "id": "f8a1c073-7151-4bd5-bf51-54f842b0eaa4",
   "metadata": {},
   "outputs": [],
   "source": [
    "shap_values = explainer([\"XD\"])"
   ]
  },
  {
   "cell_type": "code",
   "execution_count": 28,
   "id": "50910b9f-0028-4f07-8f86-55441be2fb13",
   "metadata": {},
   "outputs": [],
   "source": [
    "label = translate(pipe(\"XDD\")[0][\"label\"])"
   ]
  },
  {
   "cell_type": "code",
   "execution_count": 32,
   "id": "ef7300a6-d8f2-45db-ae99-67f7b1ca6141",
   "metadata": {},
   "outputs": [
    {
     "data": {
      "text/plain": [
       "'LABEL_1'"
      ]
     },
     "execution_count": 32,
     "metadata": {},
     "output_type": "execute_result"
    }
   ],
   "source": [
    "pipe(\"XDD\")[0][\"label\"]"
   ]
  },
  {
   "cell_type": "code",
   "execution_count": 35,
   "id": "ea372a1e-d1b4-4876-abe1-61ff3ebd0f53",
   "metadata": {},
   "outputs": [
    {
     "data": {
      "text/plain": [
       "array([-2.20802279e-07,  4.56987592e-01,  2.53014804e-01, -2.20802279e-07])"
      ]
     },
     "execution_count": 35,
     "metadata": {},
     "output_type": "execute_result"
    }
   ],
   "source": [
    "shap_values[:, :, pipe(\"XDD\")[0][\"label\"]].values[0]"
   ]
  },
  {
   "cell_type": "code",
   "execution_count": 41,
   "id": "aeda0afa-2b32-4857-b57b-18930da74977",
   "metadata": {},
   "outputs": [
    {
     "data": {
      "text/plain": [
       "['', 'X', 'D', '']"
      ]
     },
     "execution_count": 41,
     "metadata": {},
     "output_type": "execute_result"
    }
   ],
   "source": [
    "list(shap_values.data[0])"
   ]
  },
  {
   "cell_type": "code",
   "execution_count": 19,
   "id": "5ea2605d-53dc-4555-9c5a-2be3a45303f0",
   "metadata": {
    "tags": []
   },
   "outputs": [],
   "source": [
    "def translate(label):\n",
    "    t = {\"LABEL_0\": \"Negative\",\n",
    "     \"LABEL_1\": \"Neutral\",\n",
    "     \"LABEL_2\": \"Positive\"}\n",
    "    return t[label]"
   ]
  },
  {
   "cell_type": "code",
   "execution_count": 20,
   "id": "1ace2138-e0ca-40c4-9798-8fd25904177e",
   "metadata": {},
   "outputs": [],
   "source": [
    "text = \"hi\""
   ]
  },
  {
   "cell_type": "code",
   "execution_count": null,
   "id": "b113e3a6-7b7b-4be6-bb6f-351678dfe2fc",
   "metadata": {},
   "outputs": [],
   "source": [
    "shap_values = explainer([text])"
   ]
  },
  {
   "cell_type": "code",
   "execution_count": null,
   "id": "b5c2aca0-c534-44fd-a7d0-76dc0d159f91",
   "metadata": {},
   "outputs": [],
   "source": [
    "shap_values"
   ]
  },
  {
   "cell_type": "code",
   "execution_count": 119,
   "id": "d293d066-1da8-4df6-8f70-916aad27d2fc",
   "metadata": {},
   "outputs": [
    {
     "name": "stdout",
     "output_type": "stream",
     "text": [
      "Neutral\n"
     ]
    },
    {
     "data": {
      "text/html": [
       "<br/><b>0th instance:</b><br/>"
      ],
      "text/plain": [
       "<IPython.core.display.HTML object>"
      ]
     },
     "metadata": {},
     "output_type": "display_data"
    },
    {
     "data": {
      "text/html": [
       "<svg width=\"100%\" height=\"80px\"><line x1=\"0\" y1=\"33\" x2=\"100%\" y2=\"33\" style=\"stroke:rgb(150,150,150);stroke-width:1\" /><line x1=\"8.333357%\" y1=\"33\" x2=\"8.333357%\" y2=\"37\" style=\"stroke:rgb(150,150,150);stroke-width:1\" /><text x=\"8.333357%\" y=\"27\" font-size=\"12px\" fill=\"rgb(120,120,120)\" dominant-baseline=\"bottom\" text-anchor=\"middle\">-0.224142</text><text x=\"8.333357%\" y=\"10\" font-size=\"12px\" fill=\"rgb(120,120,120)\" dominant-baseline=\"bottom\" text-anchor=\"middle\">base value</text><line x1=\"22.619071%\" y1=\"33\" x2=\"22.619071%\" y2=\"37\" style=\"stroke:rgb(150,150,150);stroke-width:1\" /><text x=\"22.619071%\" y=\"27\" font-size=\"12px\" fill=\"rgb(120,120,120)\" dominant-baseline=\"bottom\" text-anchor=\"middle\">-0.149828</text><line x1=\"36.904785%\" y1=\"33\" x2=\"36.904785%\" y2=\"37\" style=\"stroke:rgb(150,150,150);stroke-width:1\" /><text x=\"36.904785%\" y=\"27\" font-size=\"12px\" fill=\"rgb(120,120,120)\" dominant-baseline=\"bottom\" text-anchor=\"middle\">-0.075514</text><line x1=\"51.190499%\" y1=\"33\" x2=\"51.190499%\" y2=\"37\" style=\"stroke:rgb(150,150,150);stroke-width:1\" /><text x=\"51.190499%\" y=\"27\" font-size=\"12px\" fill=\"rgb(120,120,120)\" dominant-baseline=\"bottom\" text-anchor=\"middle\">-0.001200</text><line x1=\"65.476214%\" y1=\"33\" x2=\"65.476214%\" y2=\"37\" style=\"stroke:rgb(150,150,150);stroke-width:1\" /><text x=\"65.476214%\" y=\"27\" font-size=\"12px\" fill=\"rgb(120,120,120)\" dominant-baseline=\"bottom\" text-anchor=\"middle\">0.073114</text><line x1=\"79.761928%\" y1=\"33\" x2=\"79.761928%\" y2=\"37\" style=\"stroke:rgb(150,150,150);stroke-width:1\" /><text x=\"79.761928%\" y=\"27\" font-size=\"12px\" fill=\"rgb(120,120,120)\" dominant-baseline=\"bottom\" text-anchor=\"middle\">0.147428</text><line x1=\"91.666643%\" y1=\"33\" x2=\"91.666643%\" y2=\"37\" style=\"stroke:rgb(150,150,150);stroke-width:1\" /><text x=\"91.666643%\" y=\"27\" font-size=\"13px\" style=\"stroke:#ffffff;stroke-width:8px;\" font-weight=\"bold\" fill=\"rgb(255,255,255)\" dominant-baseline=\"bottom\" text-anchor=\"middle\">0.209356</text><text x=\"91.666643%\" y=\"27\" font-size=\"13px\" font-weight=\"bold\" fill=\"rgb(0,0,0)\" dominant-baseline=\"bottom\" text-anchor=\"middle\">0.209356</text><text x=\"91.666643%\" y=\"10\" font-size=\"12px\" fill=\"rgb(120,120,120)\" dominant-baseline=\"bottom\" text-anchor=\"middle\">f(x)</text><rect x=\"8.33333333333334%\" width=\"83.3333101281228%\" y=\"40\" height=\"18\" style=\"fill:rgb(255.0, 0.0, 81.08083606031792); stroke-width:0; stroke:rgb(0,0,0)\" /><line x1=\"8.33333333333334%\" x2=\"91.66664346145615%\" y1=\"60\" y2=\"60\" id=\"_fb_vxjnxtazbymlejrolrnb_ind_1\" style=\"stroke:rgb(255.0, 0.0, 81.08083606031792);stroke-width:2; opacity: 0\"/><text x=\"49.999988397394745%\" y=\"71\" font-size=\"12px\" id=\"_fs_vxjnxtazbymlejrolrnb_ind_1\" fill=\"rgb(255.0, 0.0, 81.08083606031792)\" style=\"opacity: 0\" dominant-baseline=\"middle\" text-anchor=\"middle\">0.433</text><svg x=\"8.33333333333334%\" y=\"40\" height=\"20\" width=\"83.3333101281228%\">  <svg x=\"0\" y=\"0\" width=\"100%\" height=\"100%\">    <text x=\"50%\" y=\"9\" font-size=\"12px\" fill=\"rgb(255,255,255)\" dominant-baseline=\"middle\" text-anchor=\"middle\">hi</text>  </svg></svg><rect transform=\"translate(-8,0)\" x=\"91.66664346145615%\" y=\"40\" width=\"8\" height=\"18\" style=\"fill:rgb(255.0, 0.0, 81.08083606031792)\"/><g transform=\"translate(-11.5,0)\">  <svg x=\"8.33333333333334%\" y=\"40\" height=\"18\" overflow=\"visible\" width=\"30\">    <path d=\"M 10 -9 l 6 18 L 10 25 L 0 25 L 0 -9\" fill=\"#ffffff\" style=\"stroke:rgb(255,255,255);stroke-width:2\" />  </svg></g><rect x=\"8.33333333333334%\" y=\"40\" height=\"20\" width=\"83.3333101281228%\"      onmouseover=\"document.getElementById('_tp_vxjnxtazbymlejrolrnb_ind_1').style.textDecoration = 'underline';document.getElementById('_fs_vxjnxtazbymlejrolrnb_ind_1').style.opacity = 1;document.getElementById('_fb_vxjnxtazbymlejrolrnb_ind_1').style.opacity = 1;\"      onmouseout=\"document.getElementById('_tp_vxjnxtazbymlejrolrnb_ind_1').style.textDecoration = 'none';document.getElementById('_fs_vxjnxtazbymlejrolrnb_ind_1').style.opacity = 0;document.getElementById('_fb_vxjnxtazbymlejrolrnb_ind_1').style.opacity = 0;\" style=\"fill:rgb(0,0,0,0)\" /><rect x=\"91.66664346145615%\" width=\"2.320521053691954e-05%\" y=\"40\" height=\"18\" style=\"fill:rgb(0.0, 138.56128015770724, 250.76166088685727); stroke-width:0; stroke:rgb(0,0,0)\" /><line x1=\"91.66664346145615%\" x2=\"91.66666666666667%\" y1=\"60\" y2=\"60\" id=\"_fb_vxjnxtazbymlejrolrnb_ind_0\" style=\"stroke:rgb(0.0, 138.56128015770724, 250.76166088685727);stroke-width:2; opacity: 0\"/><text x=\"91.66665506406142%\" y=\"71\" font-size=\"12px\" fill=\"rgb(0.0, 138.56128015770724, 250.76166088685727)\" id=\"_fs_vxjnxtazbymlejrolrnb_ind_0\" style=\"opacity: 0\" dominant-baseline=\"middle\" text-anchor=\"middle\">-0.0</text><svg x=\"91.66664346145615%\" y=\"40\" height=\"20\" width=\"2.3205210524679387e-05%\">  <svg x=\"0\" y=\"0\" width=\"100%\" height=\"100%\">    <text x=\"50%\" y=\"9\" font-size=\"12px\" fill=\"rgb(255,255,255)\" dominant-baseline=\"middle\" text-anchor=\"middle\"></text>  </svg></svg><rect transform=\"translate(0,0)\" x=\"91.66664346145615%\" y=\"40\" width=\"8\" height=\"18\" style=\"fill:rgb(0.0, 138.56128015770724, 250.76166088685727)\"/><g transform=\"translate(-6.0,0)\">  <svg x=\"91.66666666666667%\" y=\"40\" height=\"18\" overflow=\"visible\" width=\"30\">    <path d=\"M 8 -9 l -6 18 L 8 25 L 20 25 L 20 -9\" fill=\"#ffffff\" style=\"stroke:rgb(255,255,255);stroke-width:2\" />  </svg></g><rect x=\"91.66664346145615%\" y=\"40\" height=\"20\" width=\"2.3205210524679387e-05%\"      onmouseover=\"document.getElementById('_tp_vxjnxtazbymlejrolrnb_ind_0').style.textDecoration = 'underline';document.getElementById('_fs_vxjnxtazbymlejrolrnb_ind_0').style.opacity = 1;document.getElementById('_fb_vxjnxtazbymlejrolrnb_ind_0').style.opacity = 1;\"      onmouseout=\"document.getElementById('_tp_vxjnxtazbymlejrolrnb_ind_0').style.textDecoration = 'none';document.getElementById('_fs_vxjnxtazbymlejrolrnb_ind_0').style.opacity = 0;document.getElementById('_fb_vxjnxtazbymlejrolrnb_ind_0').style.opacity = 0;\" style=\"fill:rgb(0,0,0,0)\" /></svg><div style='display: inline; text-align: center;'><div style='display: none; color: #999; padding-top: 0px; font-size: 12px;'>-0.0</div><div id='_tp_vxjnxtazbymlejrolrnb_ind_0'style='display: inline; background: rgba(54.70588235294111, 122.49411764705886, 213.40784313725496, 0.0); border-radius: 3px; padding: 0px'onclick=\"if (this.previousSibling.style.display == 'none') {this.previousSibling.style.display = 'block';this.parentNode.style.display = 'inline-block';} else {this.previousSibling.style.display = 'none';this.parentNode.style.display = 'inline';}\"onmouseover=\"document.getElementById('_fb_vxjnxtazbymlejrolrnb_ind_0').style.opacity = 1; document.getElementById('_fs_vxjnxtazbymlejrolrnb_ind_0').style.opacity = 1;\"onmouseout=\"document.getElementById('_fb_vxjnxtazbymlejrolrnb_ind_0').style.opacity = 0; document.getElementById('_fs_vxjnxtazbymlejrolrnb_ind_0').style.opacity = 0;\"></div></div><div style='display: inline; text-align: center;'><div style='display: none; color: #999; padding-top: 0px; font-size: 12px;'>0.433</div><div id='_tp_vxjnxtazbymlejrolrnb_ind_1'style='display: inline; background: rgba(255.0, 13.0, 87.0, 1.0); border-radius: 3px; padding: 0px'onclick=\"if (this.previousSibling.style.display == 'none') {this.previousSibling.style.display = 'block';this.parentNode.style.display = 'inline-block';} else {this.previousSibling.style.display = 'none';this.parentNode.style.display = 'inline';}\"onmouseover=\"document.getElementById('_fb_vxjnxtazbymlejrolrnb_ind_1').style.opacity = 1; document.getElementById('_fs_vxjnxtazbymlejrolrnb_ind_1').style.opacity = 1;\"onmouseout=\"document.getElementById('_fb_vxjnxtazbymlejrolrnb_ind_1').style.opacity = 0; document.getElementById('_fs_vxjnxtazbymlejrolrnb_ind_1').style.opacity = 0;\">hi</div></div><div style='display: inline; text-align: center;'><div style='display: none; color: #999; padding-top: 0px; font-size: 12px;'>0.0</div><div id='_tp_vxjnxtazbymlejrolrnb_ind_2'style='display: inline; background: rgba(230.2941176470614, 26.505882352939775, 102.59215686274348, 0.0); border-radius: 3px; padding: 0px'onclick=\"if (this.previousSibling.style.display == 'none') {this.previousSibling.style.display = 'block';this.parentNode.style.display = 'inline-block';} else {this.previousSibling.style.display = 'none';this.parentNode.style.display = 'inline';}\"onmouseover=\"document.getElementById('_fb_vxjnxtazbymlejrolrnb_ind_2').style.opacity = 1; document.getElementById('_fs_vxjnxtazbymlejrolrnb_ind_2').style.opacity = 1;\"onmouseout=\"document.getElementById('_fb_vxjnxtazbymlejrolrnb_ind_2').style.opacity = 0; document.getElementById('_fs_vxjnxtazbymlejrolrnb_ind_2').style.opacity = 0;\"></div></div>"
      ],
      "text/plain": [
       "<IPython.core.display.HTML object>"
      ]
     },
     "metadata": {},
     "output_type": "display_data"
    }
   ],
   "source": [
    "label = pipe(text)[0][\"label\"]\n",
    "print(translate(label))\n",
    "shap.plots.text(shap_values[:,:, label])"
   ]
  },
  {
   "cell_type": "code",
   "execution_count": 109,
   "id": "b0c2d115-a98c-4991-aa69-a94158cb4402",
   "metadata": {},
   "outputs": [],
   "source": []
  },
  {
   "cell_type": "raw",
   "id": "43dc9715-d8e5-44b0-8108-2b535b3ce928",
   "metadata": {},
   "source": []
  },
  {
   "cell_type": "code",
   "execution_count": 79,
   "id": "57d8878e-ce0b-4f51-8c8f-6f6c2f68db4f",
   "metadata": {},
   "outputs": [
    {
     "data": {
      "text/plain": [
       "'LABEL_0'"
      ]
     },
     "execution_count": 79,
     "metadata": {},
     "output_type": "execute_result"
    }
   ],
   "source": [
    "pipe(text)[0][\"label\"]"
   ]
  },
  {
   "cell_type": "code",
   "execution_count": null,
   "id": "5b1da1a4-c729-4c2d-b259-9555216a77eb",
   "metadata": {},
   "outputs": [],
   "source": []
  },
  {
   "cell_type": "code",
   "execution_count": null,
   "id": "62597fc9-f435-4e49-aee9-ad906f9cbe4a",
   "metadata": {},
   "outputs": [],
   "source": []
  }
 ],
 "metadata": {
  "kernelspec": {
   "display_name": "Python 3",
   "language": "python",
   "name": "python3"
  },
  "language_info": {
   "codemirror_mode": {
    "name": "ipython",
    "version": 3
   },
   "file_extension": ".py",
   "mimetype": "text/x-python",
   "name": "python",
   "nbconvert_exporter": "python",
   "pygments_lexer": "ipython3",
   "version": "3.9.9"
  }
 },
 "nbformat": 4,
 "nbformat_minor": 5
}
