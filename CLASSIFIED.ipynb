{
 "cells": [
  {
   "cell_type": "code",
   "execution_count": 1,
   "id": "35a3c581-a5d6-49ac-92f3-b4c1a822bf01",
   "metadata": {},
   "outputs": [],
   "source": [
    "import transformers\n",
    "import shap\n",
    "import numpy\n",
    "import matplotlib.pylab as plt\n",
    "import pandas as pd\n",
    "import numpy as np\n",
    "import scipy\n",
    "from transformers import pipeline\n",
    "from transformers import AutoTokenizer, AutoModelForSequenceClassification"
   ]
  },
  {
   "cell_type": "code",
   "execution_count": 2,
   "id": "f3c1bce4-faab-4e60-aa95-66eba39d7477",
   "metadata": {},
   "outputs": [],
   "source": [
    "import torch"
   ]
  },
  {
   "cell_type": "code",
   "execution_count": 54,
   "id": "f5046529-7358-49f0-92c7-d973584a515c",
   "metadata": {},
   "outputs": [],
   "source": [
    "tokenizer = AutoTokenizer.from_pretrained(\"unitary/toxic-bert\")\n",
    "\n",
    "model = AutoModelForSequenceClassification.from_pretrained(\"unitary/toxic-bert\")\n",
    "\n",
    "pred = transformers.pipeline(\"text-classification\", model=model, tokenizer=tokenizer, return_all_scores=True)"
   ]
  },
  {
   "cell_type": "code",
   "execution_count": 105,
   "id": "48eed6c9-f292-4866-bca2-b860d14839a6",
   "metadata": {},
   "outputs": [],
   "source": [
    "text = \"ill kill you\"\n",
    "X = tokenizer(text, return_tensors='pt')\n",
    "y = model(**X)"
   ]
  },
  {
   "cell_type": "code",
   "execution_count": 106,
   "id": "7b5df337-813d-4da5-aa42-372750d3f1c2",
   "metadata": {},
   "outputs": [],
   "source": [
    "scores = scipy.special.expit(y.logits.detach().numpy())[0]"
   ]
  },
  {
   "cell_type": "code",
   "execution_count": 107,
   "id": "6bf1b45e-6338-4444-833f-c3b1e96e4182",
   "metadata": {},
   "outputs": [],
   "source": [
    "labels = [\"toxic\",\"severe_toxic\",\"obscene\",\"threat\",\"insult\",\"identity_hate\"]"
   ]
  },
  {
   "cell_type": "code",
   "execution_count": 108,
   "id": "dac99b59-8f8c-4fd6-9c0b-489928f33a71",
   "metadata": {},
   "outputs": [
    {
     "name": "stdout",
     "output_type": "stream",
     "text": [
      "toxic :  0.93\n",
      "severe_toxic :  0.15\n",
      "obscene :  0.11\n",
      "threat :  0.89\n",
      "insult :  0.19\n",
      "identity_hate :  0.06\n"
     ]
    }
   ],
   "source": [
    "for i in range(len(scores)):\n",
    "    print(labels[i], \": \", np.round(scores[i], 2))"
   ]
  },
  {
   "cell_type": "code",
   "execution_count": 119,
   "id": "f93c4d33-917f-42e8-9ad9-d24690542b3f",
   "metadata": {},
   "outputs": [
    {
     "data": {
      "text/plain": [
       "[[{'label': 'toxic', 'score': 0.8704692125320435},\n",
       "  {'label': 'severe_toxic', 'score': 0.00865361001342535},\n",
       "  {'label': 'obscene', 'score': 0.061189282685518265},\n",
       "  {'label': 'threat', 'score': 0.01115700788795948},\n",
       "  {'label': 'insult', 'score': 0.03484519198536873},\n",
       "  {'label': 'identity_hate', 'score': 0.013685752637684345}]]"
      ]
     },
     "execution_count": 119,
     "metadata": {},
     "output_type": "execute_result"
    }
   ],
   "source": []
  },
  {
   "cell_type": "code",
   "execution_count": 109,
   "id": "c43eb04b-33fd-40e3-a33a-4884abbfd05b",
   "metadata": {},
   "outputs": [],
   "source": [
    "explainer = shap.Explainer(pred)"
   ]
  },
  {
   "cell_type": "code",
   "execution_count": 117,
   "id": "6f0dbe48-9c41-489e-98fa-3f4e97557ccd",
   "metadata": {},
   "outputs": [],
   "source": [
    "shapley_values = explainer(np.array([text]))"
   ]
  },
  {
   "cell_type": "code",
   "execution_count": 118,
   "id": "fc2f1d42-8554-46e7-9803-356d60760314",
   "metadata": {},
   "outputs": [
    {
     "data": {
      "text/html": [
       "<br/><b>0th instance:</b><br/>"
      ],
      "text/plain": [
       "<IPython.core.display.HTML object>"
      ]
     },
     "metadata": {},
     "output_type": "display_data"
    },
    {
     "data": {
      "text/html": [
       "\n",
       "    <script>\n",
       "        function selectVizType_mgjqrjabuzxgoimuzkda(selectObject) {\n",
       "\n",
       "          /* Hide all viz */\n",
       "\n",
       "            var elements = document.getElementsByClassName(\"mgjqrjabuzxgoimuzkda_viz_container\")\n",
       "          for (var i = 0; i < elements.length; i++){\n",
       "              elements[i].style.display = 'none';\n",
       "          }\n",
       "\n",
       "          var value = selectObject.value;\n",
       "          if ( value === \"saliency-plot\" ){\n",
       "              document.getElementById('mgjqrjabuzxgoimuzkda_saliency_plot_container').style.display  = \"block\";\n",
       "          }\n",
       "          else if ( value === \"heatmap\" ) {\n",
       "              document.getElementById('mgjqrjabuzxgoimuzkda_heatmap_container').style.display  = \"block\";\n",
       "          }\n",
       "        }\n",
       "    </script>\n",
       "    \n",
       "    <html>\n",
       "    <div id=\"mgjqrjabuzxgoimuzkda_viz_container\">\n",
       "      <div id=\"mgjqrjabuzxgoimuzkda_viz_header\" style=\"padding:15px;border-style:solid;margin:5px;font-family:sans-serif;font-weight:bold;\">\n",
       "        Visualization Type:\n",
       "        <select name=\"viz_type\" id=\"mgjqrjabuzxgoimuzkda_viz_type\" onchange=\"selectVizType_mgjqrjabuzxgoimuzkda(this)\">\n",
       "          <option value=\"heatmap\" selected=\"selected\">Input/Output - Heatmap</option>\n",
       "          <option value=\"saliency-plot\">Saliency Plot</option>\n",
       "        </select>\n",
       "      </div>\n",
       "      <div id=\"mgjqrjabuzxgoimuzkda_content\" style=\"padding:15px;border-style:solid;margin:5px;\">\n",
       "          <div id = \"mgjqrjabuzxgoimuzkda_saliency_plot_container\" class=\"mgjqrjabuzxgoimuzkda_viz_container\" style=\"display:none\"> \n",
       "              \n",
       "        <div id=\"byprdfklpmjvcweobfzr_saliency_plot\" class=\"byprdfklpmjvcweobfzr_viz_content\">\n",
       "            <div style=\"margin:5px;font-family:sans-serif;font-weight:bold;\">\n",
       "                <span style=\"font-size: 20px;\"> Saliency Plot </span>\n",
       "                <br>\n",
       "                x-axis: Output Text\n",
       "                <br>\n",
       "                y-axis: Input Text\n",
       "            </div>\n",
       "            <table border = \"1\" cellpadding = \"5\" cellspacing = \"5\" style=\"overflow-x:scroll;display:block;\"><tr><th></th><th></th><th>ill </th><th>kill </th><th>you</th><th></th></tr><tr><th>toxic</th><th style=\"background:rgba(54.70588235294111, 122.49411764705886, 213.40784313725496, 0.0)\">-0.0</th><th style=\"background:rgba(255.0, 13.0, 87.0, 0.14866310160427795)\">0.63</th><th style=\"background:rgba(30.0, 136.0, 229.0, 0.42455931867696567)\">-1.74</th><th style=\"background:rgba(255.0, 13.0, 87.0, 0.306318082788671)\">1.274</th><th style=\"background:rgba(54.70588235294111, 122.49411764705886, 213.40784313725496, 0.0)\">-0.0</th></tr><tr><th>severe_toxic</th><th style=\"background:rgba(54.70588235294111, 122.49411764705886, 213.40784313725496, 0.0)\">-0.0</th><th style=\"background:rgba(30.0, 136.0, 229.0, 0.29055258467023176)\">-1.2</th><th style=\"background:rgba(255.0, 13.0, 87.0, 0.23537334125569415)\">0.975</th><th style=\"background:rgba(30.0, 136.0, 229.0, 0.4482075658546247)\">-1.862</th><th style=\"background:rgba(54.70588235294111, 122.49411764705886, 213.40784313725496, 0.0)\">-0.0</th></tr><tr><th>obscene</th><th style=\"background:rgba(230.2941176470614, 26.505882352939775, 102.59215686274348, 0.0)\">0.0</th><th style=\"background:rgba(30.0, 136.0, 229.0, 0.282669835611012)\">-1.166</th><th style=\"background:rgba(30.0, 136.0, 229.0, 0.18019409784115656)\">-0.767</th><th style=\"background:rgba(30.0, 136.0, 229.0, 0.2669043374925727)\">-1.121</th><th style=\"background:rgba(230.2941176470614, 26.505882352939775, 102.59215686274348, 0.0)\">0.0</th></tr><tr><th>threat</th><th style=\"background:rgba(230.2941176470614, 26.505882352939775, 102.59215686274348, 0.0)\">0.0</th><th style=\"background:rgba(30.0, 136.0, 229.0, 0.1880768469003762)\">-0.771</th><th style=\"background:rgba(255.0, 13.0, 87.0, 1.0)\">4.113</th><th style=\"background:rgba(30.0, 136.0, 229.0, 0.282669835611012)\">-1.179</th><th style=\"background:rgba(230.2941176470614, 26.505882352939775, 102.59215686274348, 0.0)\">0.0</th></tr><tr><th>insult</th><th style=\"background:rgba(54.70588235294111, 122.49411764705886, 213.40784313725496, 0.0)\">-0.0</th><th style=\"background:rgba(30.0, 136.0, 229.0, 0.03042186571598325)\">-0.137</th><th style=\"background:rgba(30.0, 136.0, 229.0, 0.3772628243216478)\">-1.55</th><th style=\"background:rgba(30.0, 136.0, 229.0, 0.16442859972271748)\">-0.702</th><th style=\"background:rgba(54.70588235294111, 122.49411764705886, 213.40784313725496, 0.0)\">-0.0</th></tr><tr><th>identity_hate</th><th style=\"background:rgba(230.2941176470614, 26.505882352939775, 102.59215686274348, 0.0)\">0.0</th><th style=\"background:rgba(30.0, 136.0, 229.0, 0.22749059219647463)\">-0.958</th><th style=\"background:rgba(30.0, 136.0, 229.0, 0.23537334125569417)\">-0.979</th><th style=\"background:rgba(30.0, 136.0, 229.0, 0.36149732620320846)\">-1.491</th><th style=\"background:rgba(230.2941176470614, 26.505882352939775, 102.59215686274348, 0.0)\">0.0</th></tr></table>\n",
       "        </div>\n",
       "    \n",
       "          </div>\n",
       "          \n",
       "          <div id = \"mgjqrjabuzxgoimuzkda_heatmap_container\" class=\"mgjqrjabuzxgoimuzkda_viz_container\">\n",
       "              \n",
       "        <div id=\"jlgyufldhtdwdrtllggl_heatmap\" class=\"jlgyufldhtdwdrtllggl_viz_content\">\n",
       "          <div id=\"jlgyufldhtdwdrtllggl_heatmap_header\" style=\"padding:15px;margin:5px;font-family:sans-serif;font-weight:bold;\">\n",
       "            <div style=\"display:inline\">\n",
       "              <span style=\"font-size: 20px;\"> Input/Output - Heatmap </span>\n",
       "            </div>\n",
       "            <div style=\"display:inline;float:right\">\n",
       "              Layout :\n",
       "              <select name=\"alignment\" id=\"jlgyufldhtdwdrtllggl_alignment\" onchange=\"selectAlignment_jlgyufldhtdwdrtllggl(this)\">\n",
       "                <option value=\"left-right\" selected=\"selected\">Left/Right</option>\n",
       "                <option value=\"top-bottom\">Top/Bottom</option>\n",
       "              </select>\n",
       "            </div>\n",
       "          </div>\n",
       "          <div id=\"jlgyufldhtdwdrtllggl_heatmap_content\" style=\"display:flex;\">\n",
       "            <div id=\"jlgyufldhtdwdrtllggl_input_container\" style=\"padding:15px;border-style:solid;margin:5px;flex:1;\">\n",
       "              <div id=\"jlgyufldhtdwdrtllggl_input_header\" style=\"margin:5px;font-weight:bold;font-family:sans-serif;margin-bottom:10px\">\n",
       "                Input Text\n",
       "              </div>\n",
       "              <div id=\"jlgyufldhtdwdrtllggl_input_content\" style=\"margin:5px;font-family:sans-serif;\">\n",
       "                  <div id=\"jlgyufldhtdwdrtllggl_input_node_8_container\" style=\"display:inline;text-align:center\"><div id=\"jlgyufldhtdwdrtllggl_input_node_8_label\" style=\"display:none; padding-top: 0px; font-size:12px;\"></div><div id=\"jlgyufldhtdwdrtllggl_input_node_8_content\" style=\"display:inline;\"><div id=\"jlgyufldhtdwdrtllggl_input_node_7_container\" style=\"display:inline;text-align:center\"><div id=\"jlgyufldhtdwdrtllggl_input_node_7_label\" style=\"display:none; padding-top: 0px; font-size:12px;\"></div><div id=\"jlgyufldhtdwdrtllggl_input_node_7_content\" style=\"display:inline;\"><div id=\"jlgyufldhtdwdrtllggl_input_node_0_container\" style=\"display:inline;text-align:center\"><div id=\"jlgyufldhtdwdrtllggl_input_node_0_label\" style=\"display:none; padding-top: 0px; font-size:12px;\"></div><div id=\"jlgyufldhtdwdrtllggl_input_node_0_content\"style='display: inline; background:transparent; border-radius: 3px; padding: 0px;cursor: default;cursor: pointer;'onmouseover=\"onMouseHoverFlat_jlgyufldhtdwdrtllggl(this.id)\" onmouseout=\"onMouseOutFlat_jlgyufldhtdwdrtllggl(this.id)\" onclick=\"onMouseClickFlat_jlgyufldhtdwdrtllggl(this.id)\" ></div></div><div id=\"jlgyufldhtdwdrtllggl_input_node_6_container\" style=\"display:inline;text-align:center\"><div id=\"jlgyufldhtdwdrtllggl_input_node_6_label\" style=\"display:none; padding-top: 0px; font-size:12px;\"></div><div id=\"jlgyufldhtdwdrtllggl_input_node_6_content\" style=\"display:inline;\"><div id=\"jlgyufldhtdwdrtllggl_input_node_5_container\" style=\"display:inline;text-align:center\"><div id=\"jlgyufldhtdwdrtllggl_input_node_5_label\" style=\"display:none; padding-top: 0px; font-size:12px;\"></div><div id=\"jlgyufldhtdwdrtllggl_input_node_5_content\" style=\"display:inline;\"><div id=\"jlgyufldhtdwdrtllggl_input_node_1_container\" style=\"display:inline;text-align:center\"><div id=\"jlgyufldhtdwdrtllggl_input_node_1_label\" style=\"display:none; padding-top: 0px; font-size:12px;\"></div><div id=\"jlgyufldhtdwdrtllggl_input_node_1_content\"style='display: inline; background:transparent; border-radius: 3px; padding: 0px;cursor: default;cursor: pointer;'onmouseover=\"onMouseHoverFlat_jlgyufldhtdwdrtllggl(this.id)\" onmouseout=\"onMouseOutFlat_jlgyufldhtdwdrtllggl(this.id)\" onclick=\"onMouseClickFlat_jlgyufldhtdwdrtllggl(this.id)\" >ill </div></div><div id=\"jlgyufldhtdwdrtllggl_input_node_2_container\" style=\"display:inline;text-align:center\"><div id=\"jlgyufldhtdwdrtllggl_input_node_2_label\" style=\"display:none; padding-top: 0px; font-size:12px;\"></div><div id=\"jlgyufldhtdwdrtllggl_input_node_2_content\"style='display: inline; background:transparent; border-radius: 3px; padding: 0px;cursor: default;cursor: pointer;'onmouseover=\"onMouseHoverFlat_jlgyufldhtdwdrtllggl(this.id)\" onmouseout=\"onMouseOutFlat_jlgyufldhtdwdrtllggl(this.id)\" onclick=\"onMouseClickFlat_jlgyufldhtdwdrtllggl(this.id)\" >kill </div></div></div></div><div id=\"jlgyufldhtdwdrtllggl_input_node_3_container\" style=\"display:inline;text-align:center\"><div id=\"jlgyufldhtdwdrtllggl_input_node_3_label\" style=\"display:none; padding-top: 0px; font-size:12px;\"></div><div id=\"jlgyufldhtdwdrtllggl_input_node_3_content\"style='display: inline; background:transparent; border-radius: 3px; padding: 0px;cursor: default;cursor: pointer;'onmouseover=\"onMouseHoverFlat_jlgyufldhtdwdrtllggl(this.id)\" onmouseout=\"onMouseOutFlat_jlgyufldhtdwdrtllggl(this.id)\" onclick=\"onMouseClickFlat_jlgyufldhtdwdrtllggl(this.id)\" >you</div></div></div></div></div></div><div id=\"jlgyufldhtdwdrtllggl_input_node_4_container\" style=\"display:inline;text-align:center\"><div id=\"jlgyufldhtdwdrtllggl_input_node_4_label\" style=\"display:none; padding-top: 0px; font-size:12px;\"></div><div id=\"jlgyufldhtdwdrtllggl_input_node_4_content\"style='display: inline; background:transparent; border-radius: 3px; padding: 0px;cursor: default;cursor: pointer;'onmouseover=\"onMouseHoverFlat_jlgyufldhtdwdrtllggl(this.id)\" onmouseout=\"onMouseOutFlat_jlgyufldhtdwdrtllggl(this.id)\" onclick=\"onMouseClickFlat_jlgyufldhtdwdrtllggl(this.id)\" ></div></div></div></div>\n",
       "              </div>\n",
       "            </div>\n",
       "            <div id=\"jlgyufldhtdwdrtllggl_output_container\" style=\"padding:15px;border-style:solid;margin:5px;flex:1;\">\n",
       "              <div id=\"jlgyufldhtdwdrtllggl_output_header\" style=\"margin:5px;font-weight:bold;font-family:sans-serif;margin-bottom:10px\">\n",
       "                Output Text\n",
       "              </div>\n",
       "              <div id=\"jlgyufldhtdwdrtllggl_output_content\" style=\"margin:5px;font-family:sans-serif;\">\n",
       "                  <div style='display:inline; text-align:center;'><div id='jlgyufldhtdwdrtllggl_output_flat_value_label_0'style='display:none;color: #999; padding-top: 0px; font-size:12px;'></div><div id='jlgyufldhtdwdrtllggl_output_flat_token_0'style='display: inline; background:transparent; border-radius: 3px; padding: 0px;cursor: default;cursor: pointer;'onmouseover=\"onMouseHoverFlat_jlgyufldhtdwdrtllggl(this.id)\" onmouseout=\"onMouseOutFlat_jlgyufldhtdwdrtllggl(this.id)\" onclick=\"onMouseClickFlat_jlgyufldhtdwdrtllggl(this.id)\" >toxic </div></div><div style='display:inline; text-align:center;'><div id='jlgyufldhtdwdrtllggl_output_flat_value_label_1'style='display:none;color: #999; padding-top: 0px; font-size:12px;'></div><div id='jlgyufldhtdwdrtllggl_output_flat_token_1'style='display: inline; background:transparent; border-radius: 3px; padding: 0px;cursor: default;cursor: pointer;'onmouseover=\"onMouseHoverFlat_jlgyufldhtdwdrtllggl(this.id)\" onmouseout=\"onMouseOutFlat_jlgyufldhtdwdrtllggl(this.id)\" onclick=\"onMouseClickFlat_jlgyufldhtdwdrtllggl(this.id)\" >severe_toxic </div></div><div style='display:inline; text-align:center;'><div id='jlgyufldhtdwdrtllggl_output_flat_value_label_2'style='display:none;color: #999; padding-top: 0px; font-size:12px;'></div><div id='jlgyufldhtdwdrtllggl_output_flat_token_2'style='display: inline; background:transparent; border-radius: 3px; padding: 0px;cursor: default;cursor: pointer;'onmouseover=\"onMouseHoverFlat_jlgyufldhtdwdrtllggl(this.id)\" onmouseout=\"onMouseOutFlat_jlgyufldhtdwdrtllggl(this.id)\" onclick=\"onMouseClickFlat_jlgyufldhtdwdrtllggl(this.id)\" >obscene </div></div><div style='display:inline; text-align:center;'><div id='jlgyufldhtdwdrtllggl_output_flat_value_label_3'style='display:none;color: #999; padding-top: 0px; font-size:12px;'></div><div id='jlgyufldhtdwdrtllggl_output_flat_token_3'style='display: inline; background:transparent; border-radius: 3px; padding: 0px;cursor: default;cursor: pointer;'onmouseover=\"onMouseHoverFlat_jlgyufldhtdwdrtllggl(this.id)\" onmouseout=\"onMouseOutFlat_jlgyufldhtdwdrtllggl(this.id)\" onclick=\"onMouseClickFlat_jlgyufldhtdwdrtllggl(this.id)\" >threat </div></div><div style='display:inline; text-align:center;'><div id='jlgyufldhtdwdrtllggl_output_flat_value_label_4'style='display:none;color: #999; padding-top: 0px; font-size:12px;'></div><div id='jlgyufldhtdwdrtllggl_output_flat_token_4'style='display: inline; background:transparent; border-radius: 3px; padding: 0px;cursor: default;cursor: pointer;'onmouseover=\"onMouseHoverFlat_jlgyufldhtdwdrtllggl(this.id)\" onmouseout=\"onMouseOutFlat_jlgyufldhtdwdrtllggl(this.id)\" onclick=\"onMouseClickFlat_jlgyufldhtdwdrtllggl(this.id)\" >insult </div></div><div style='display:inline; text-align:center;'><div id='jlgyufldhtdwdrtllggl_output_flat_value_label_5'style='display:none;color: #999; padding-top: 0px; font-size:12px;'></div><div id='jlgyufldhtdwdrtllggl_output_flat_token_5'style='display: inline; background:transparent; border-radius: 3px; padding: 0px;cursor: default;cursor: pointer;'onmouseover=\"onMouseHoverFlat_jlgyufldhtdwdrtllggl(this.id)\" onmouseout=\"onMouseOutFlat_jlgyufldhtdwdrtllggl(this.id)\" onclick=\"onMouseClickFlat_jlgyufldhtdwdrtllggl(this.id)\" >identity_hate </div></div>\n",
       "              </div>\n",
       "            </div>\n",
       "          </div>\n",
       "        </div>\n",
       "    \n",
       "        <script>\n",
       "            function selectAlignment_jlgyufldhtdwdrtllggl(selectObject) {\n",
       "                var value = selectObject.value;\n",
       "                if ( value === \"left-right\" ){\n",
       "                  document.getElementById('jlgyufldhtdwdrtllggl_heatmap_content').style.display  = \"flex\";\n",
       "                }\n",
       "                else if ( value === \"top-bottom\" ) {\n",
       "                  document.getElementById('jlgyufldhtdwdrtllggl_heatmap_content').style.display  = \"inline\";\n",
       "                }\n",
       "            }\n",
       "            \n",
       "            var jlgyufldhtdwdrtllggl_heatmap_flat_state = null;\n",
       "            \n",
       "            function onMouseHoverFlat_jlgyufldhtdwdrtllggl(id) {\n",
       "                if (jlgyufldhtdwdrtllggl_heatmap_flat_state === null) {\n",
       "                    setBackgroundColors_jlgyufldhtdwdrtllggl(id);\n",
       "                    document.getElementById(id).style.backgroundColor  = \"grey\";\n",
       "                }\n",
       "                \n",
       "                if (getIdSide_jlgyufldhtdwdrtllggl(id) === 'input' && getIdSide_jlgyufldhtdwdrtllggl(jlgyufldhtdwdrtllggl_heatmap_flat_state) === 'output'){\n",
       "                \n",
       "                    label_content_id = token_id_to_node_id_mapping_jlgyufldhtdwdrtllggl[jlgyufldhtdwdrtllggl_heatmap_flat_state][id];\n",
       "                    \n",
       "                    if (document.getElementById(label_content_id).previousElementSibling.style.display == 'none'){\n",
       "                        document.getElementById(label_content_id).style.textShadow = \"0px 0px 1px #000000\";\n",
       "                    }\n",
       "                    \n",
       "                }\n",
       "                \n",
       "            }\n",
       "            \n",
       "            function onMouseOutFlat_jlgyufldhtdwdrtllggl(id) {\n",
       "                if (jlgyufldhtdwdrtllggl_heatmap_flat_state === null) {\n",
       "                    cleanValuesAndColors_jlgyufldhtdwdrtllggl(id);\n",
       "                    document.getElementById(id).style.backgroundColor  = \"transparent\";\n",
       "                }\n",
       "                \n",
       "                if (getIdSide_jlgyufldhtdwdrtllggl(id) === 'input' && getIdSide_jlgyufldhtdwdrtllggl(jlgyufldhtdwdrtllggl_heatmap_flat_state) === 'output'){\n",
       "                \n",
       "                    label_content_id = token_id_to_node_id_mapping_jlgyufldhtdwdrtllggl[jlgyufldhtdwdrtllggl_heatmap_flat_state][id];\n",
       "                    \n",
       "                    if (document.getElementById(label_content_id).previousElementSibling.style.display == 'none'){\n",
       "                        document.getElementById(label_content_id).style.textShadow = \"inherit\";\n",
       "                    }\n",
       "                    \n",
       "                }\n",
       "                \n",
       "            }\n",
       "\n",
       "            function onMouseClickFlat_jlgyufldhtdwdrtllggl(id) {\n",
       "                if (jlgyufldhtdwdrtllggl_heatmap_flat_state === id) {\n",
       "                    \n",
       "                    // If the clicked token was already selected\n",
       "                    \n",
       "                    document.getElementById(id).style.backgroundColor  = \"transparent\";\n",
       "                    cleanValuesAndColors_jlgyufldhtdwdrtllggl(id);\n",
       "                    jlgyufldhtdwdrtllggl_heatmap_flat_state = null;\n",
       "                }\n",
       "                else {\n",
       "                    if (jlgyufldhtdwdrtllggl_heatmap_flat_state === null) {\n",
       "                    \n",
       "                        // No token previously selected, new token clicked on\n",
       "                    \n",
       "                        cleanValuesAndColors_jlgyufldhtdwdrtllggl(id)\n",
       "                        jlgyufldhtdwdrtllggl_heatmap_flat_state = id;\n",
       "                        document.getElementById(id).style.backgroundColor  = \"grey\";\n",
       "                        setLabelValues_jlgyufldhtdwdrtllggl(id);\n",
       "                        setBackgroundColors_jlgyufldhtdwdrtllggl(id);\n",
       "                    }\n",
       "                    else {\n",
       "                        if (getIdSide_jlgyufldhtdwdrtllggl(jlgyufldhtdwdrtllggl_heatmap_flat_state) === getIdSide_jlgyufldhtdwdrtllggl(id)) {\n",
       "                        \n",
       "                            // User clicked a token on the same side as the currently selected token\n",
       "                            \n",
       "                            cleanValuesAndColors_jlgyufldhtdwdrtllggl(jlgyufldhtdwdrtllggl_heatmap_flat_state)\n",
       "                            document.getElementById(jlgyufldhtdwdrtllggl_heatmap_flat_state).style.backgroundColor  = \"transparent\";\n",
       "                            jlgyufldhtdwdrtllggl_heatmap_flat_state = id;\n",
       "                            document.getElementById(id).style.backgroundColor  = \"grey\";\n",
       "                            setLabelValues_jlgyufldhtdwdrtllggl(id);\n",
       "                            setBackgroundColors_jlgyufldhtdwdrtllggl(id);\n",
       "                        }\n",
       "                        else{\n",
       "                            \n",
       "                            if (getIdSide_jlgyufldhtdwdrtllggl(id) === 'input') {\n",
       "                                label_content_id = token_id_to_node_id_mapping_jlgyufldhtdwdrtllggl[jlgyufldhtdwdrtllggl_heatmap_flat_state][id];\n",
       "                                \n",
       "                                if (document.getElementById(label_content_id).previousElementSibling.style.display == 'none') {\n",
       "                                    document.getElementById(label_content_id).previousElementSibling.style.display = 'block';\n",
       "                                    document.getElementById(label_content_id).parentNode.style.display = 'inline-block';\n",
       "                                    document.getElementById(label_content_id).style.textShadow = \"0px 0px 1px #000000\";\n",
       "                                  }\n",
       "                                else {\n",
       "                                    document.getElementById(label_content_id).previousElementSibling.style.display = 'none';\n",
       "                                    document.getElementById(label_content_id).parentNode.style.display = 'inline';\n",
       "                                    document.getElementById(label_content_id).style.textShadow  = \"inherit\"; \n",
       "                                  }\n",
       "                                \n",
       "                            }\n",
       "                            else {\n",
       "                                if (document.getElementById(id).previousElementSibling.style.display == 'none') {\n",
       "                                    document.getElementById(id).previousElementSibling.style.display = 'block';\n",
       "                                    document.getElementById(id).parentNode.style.display = 'inline-block';\n",
       "                                  }\n",
       "                                else {\n",
       "                                    document.getElementById(id).previousElementSibling.style.display = 'none';\n",
       "                                    document.getElementById(id).parentNode.style.display = 'inline';\n",
       "                                  }\n",
       "                            }\n",
       "                        \n",
       "                        }\n",
       "                    }\n",
       "                \n",
       "                }\n",
       "            }\n",
       "\n",
       "            function setLabelValues_jlgyufldhtdwdrtllggl(id) {\n",
       "                for(const token in shap_values_jlgyufldhtdwdrtllggl[id]){\n",
       "                    document.getElementById(token).innerHTML = shap_values_jlgyufldhtdwdrtllggl[id][token];\n",
       "                    document.getElementById(token).nextElementSibling.title = 'SHAP Value : ' + shap_values_jlgyufldhtdwdrtllggl[id][token];\n",
       "                }\n",
       "            }\n",
       "\n",
       "            function setBackgroundColors_jlgyufldhtdwdrtllggl(id) {\n",
       "                for(const token in colors_jlgyufldhtdwdrtllggl[id]){\n",
       "                    document.getElementById(token).style.backgroundColor  = colors_jlgyufldhtdwdrtllggl[id][token];\n",
       "                }\n",
       "            }\n",
       "\n",
       "            function cleanValuesAndColors_jlgyufldhtdwdrtllggl(id) {\n",
       "                for(const token in shap_values_jlgyufldhtdwdrtllggl[id]){\n",
       "                    document.getElementById(token).innerHTML = \"\";\n",
       "                    document.getElementById(token).nextElementSibling.title = \"\";\n",
       "                }\n",
       "                 for(const token in colors_jlgyufldhtdwdrtllggl[id]){\n",
       "                    document.getElementById(token).style.backgroundColor  = \"transparent\";\n",
       "                    document.getElementById(token).previousElementSibling.style.display = 'none';\n",
       "                    document.getElementById(token).parentNode.style.display = 'inline';\n",
       "                    document.getElementById(token).style.textShadow  = \"inherit\"; \n",
       "                }\n",
       "            }\n",
       "            \n",
       "            function getIdSide_jlgyufldhtdwdrtllggl(id) {\n",
       "                if (id === null) {\n",
       "                    return 'null'\n",
       "                }\n",
       "                return id.split(\"_\")[1];\n",
       "            }\n",
       "        </script>\n",
       "    <script> colors_jlgyufldhtdwdrtllggl = {\"jlgyufldhtdwdrtllggl_input_node_0_content\": {\"jlgyufldhtdwdrtllggl_output_flat_token_0\": \"rgba(54.70588235294111, 122.49411764705886, 213.40784313725496, 0.0)\", \"jlgyufldhtdwdrtllggl_output_flat_token_1\": \"rgba(54.70588235294111, 122.49411764705886, 213.40784313725496, 0.0)\", \"jlgyufldhtdwdrtllggl_output_flat_token_2\": \"rgba(230.2941176470614, 26.505882352939775, 102.59215686274348, 0.0)\", \"jlgyufldhtdwdrtllggl_output_flat_token_3\": \"rgba(230.2941176470614, 26.505882352939775, 102.59215686274348, 0.0)\", \"jlgyufldhtdwdrtllggl_output_flat_token_4\": \"rgba(54.70588235294111, 122.49411764705886, 213.40784313725496, 0.0)\", \"jlgyufldhtdwdrtllggl_output_flat_token_5\": \"rgba(230.2941176470614, 26.505882352939775, 102.59215686274348, 0.0)\"}, \"jlgyufldhtdwdrtllggl_input_node_1_content\": {\"jlgyufldhtdwdrtllggl_output_flat_token_0\": \"rgba(255.0, 13.0, 87.0, 0.14866310160427795)\", \"jlgyufldhtdwdrtllggl_output_flat_token_1\": \"rgba(30.0, 136.0, 229.0, 0.29055258467023176)\", \"jlgyufldhtdwdrtllggl_output_flat_token_2\": \"rgba(30.0, 136.0, 229.0, 0.282669835611012)\", \"jlgyufldhtdwdrtllggl_output_flat_token_3\": \"rgba(30.0, 136.0, 229.0, 0.1880768469003762)\", \"jlgyufldhtdwdrtllggl_output_flat_token_4\": \"rgba(30.0, 136.0, 229.0, 0.03042186571598325)\", \"jlgyufldhtdwdrtllggl_output_flat_token_5\": \"rgba(30.0, 136.0, 229.0, 0.22749059219647463)\"}, \"jlgyufldhtdwdrtllggl_input_node_2_content\": {\"jlgyufldhtdwdrtllggl_output_flat_token_0\": \"rgba(30.0, 136.0, 229.0, 0.42455931867696567)\", \"jlgyufldhtdwdrtllggl_output_flat_token_1\": \"rgba(255.0, 13.0, 87.0, 0.23537334125569415)\", \"jlgyufldhtdwdrtllggl_output_flat_token_2\": \"rgba(30.0, 136.0, 229.0, 0.18019409784115656)\", \"jlgyufldhtdwdrtllggl_output_flat_token_3\": \"rgba(255.0, 13.0, 87.0, 1.0)\", \"jlgyufldhtdwdrtllggl_output_flat_token_4\": \"rgba(30.0, 136.0, 229.0, 0.3772628243216478)\", \"jlgyufldhtdwdrtllggl_output_flat_token_5\": \"rgba(30.0, 136.0, 229.0, 0.23537334125569417)\"}, \"jlgyufldhtdwdrtllggl_input_node_3_content\": {\"jlgyufldhtdwdrtllggl_output_flat_token_0\": \"rgba(255.0, 13.0, 87.0, 0.306318082788671)\", \"jlgyufldhtdwdrtllggl_output_flat_token_1\": \"rgba(30.0, 136.0, 229.0, 0.4482075658546247)\", \"jlgyufldhtdwdrtllggl_output_flat_token_2\": \"rgba(30.0, 136.0, 229.0, 0.2669043374925727)\", \"jlgyufldhtdwdrtllggl_output_flat_token_3\": \"rgba(30.0, 136.0, 229.0, 0.282669835611012)\", \"jlgyufldhtdwdrtllggl_output_flat_token_4\": \"rgba(30.0, 136.0, 229.0, 0.16442859972271748)\", \"jlgyufldhtdwdrtllggl_output_flat_token_5\": \"rgba(30.0, 136.0, 229.0, 0.36149732620320846)\"}, \"jlgyufldhtdwdrtllggl_input_node_4_content\": {\"jlgyufldhtdwdrtllggl_output_flat_token_0\": \"rgba(54.70588235294111, 122.49411764705886, 213.40784313725496, 0.0)\", \"jlgyufldhtdwdrtllggl_output_flat_token_1\": \"rgba(54.70588235294111, 122.49411764705886, 213.40784313725496, 0.0)\", \"jlgyufldhtdwdrtllggl_output_flat_token_2\": \"rgba(230.2941176470614, 26.505882352939775, 102.59215686274348, 0.0)\", \"jlgyufldhtdwdrtllggl_output_flat_token_3\": \"rgba(230.2941176470614, 26.505882352939775, 102.59215686274348, 0.0)\", \"jlgyufldhtdwdrtllggl_output_flat_token_4\": \"rgba(54.70588235294111, 122.49411764705886, 213.40784313725496, 0.0)\", \"jlgyufldhtdwdrtllggl_output_flat_token_5\": \"rgba(230.2941176470614, 26.505882352939775, 102.59215686274348, 0.0)\"}, \"jlgyufldhtdwdrtllggl_output_flat_token_0\": {\"jlgyufldhtdwdrtllggl_input_node_0_content\": \"rgba(54.70588235294111, 122.49411764705886, 213.40784313725496, 0.0)\", \"jlgyufldhtdwdrtllggl_input_node_1_content\": \"rgba(255.0, 13.0, 87.0, 0.14866310160427795)\", \"jlgyufldhtdwdrtllggl_input_node_2_content\": \"rgba(30.0, 136.0, 229.0, 0.42455931867696567)\", \"jlgyufldhtdwdrtllggl_input_node_3_content\": \"rgba(255.0, 13.0, 87.0, 0.306318082788671)\", \"jlgyufldhtdwdrtllggl_input_node_4_content\": \"rgba(54.70588235294111, 122.49411764705886, 213.40784313725496, 0.0)\"}, \"jlgyufldhtdwdrtllggl_output_flat_token_1\": {\"jlgyufldhtdwdrtllggl_input_node_0_content\": \"rgba(54.70588235294111, 122.49411764705886, 213.40784313725496, 0.0)\", \"jlgyufldhtdwdrtllggl_input_node_1_content\": \"rgba(30.0, 136.0, 229.0, 0.29055258467023176)\", \"jlgyufldhtdwdrtllggl_input_node_2_content\": \"rgba(255.0, 13.0, 87.0, 0.23537334125569415)\", \"jlgyufldhtdwdrtllggl_input_node_3_content\": \"rgba(30.0, 136.0, 229.0, 0.4482075658546247)\", \"jlgyufldhtdwdrtllggl_input_node_4_content\": \"rgba(54.70588235294111, 122.49411764705886, 213.40784313725496, 0.0)\"}, \"jlgyufldhtdwdrtllggl_output_flat_token_2\": {\"jlgyufldhtdwdrtllggl_input_node_0_content\": \"rgba(230.2941176470614, 26.505882352939775, 102.59215686274348, 0.0)\", \"jlgyufldhtdwdrtllggl_input_node_1_content\": \"rgba(30.0, 136.0, 229.0, 0.282669835611012)\", \"jlgyufldhtdwdrtllggl_input_node_2_content\": \"rgba(30.0, 136.0, 229.0, 0.18019409784115656)\", \"jlgyufldhtdwdrtllggl_input_node_3_content\": \"rgba(30.0, 136.0, 229.0, 0.2669043374925727)\", \"jlgyufldhtdwdrtllggl_input_node_4_content\": \"rgba(230.2941176470614, 26.505882352939775, 102.59215686274348, 0.0)\"}, \"jlgyufldhtdwdrtllggl_output_flat_token_3\": {\"jlgyufldhtdwdrtllggl_input_node_0_content\": \"rgba(230.2941176470614, 26.505882352939775, 102.59215686274348, 0.0)\", \"jlgyufldhtdwdrtllggl_input_node_1_content\": \"rgba(30.0, 136.0, 229.0, 0.1880768469003762)\", \"jlgyufldhtdwdrtllggl_input_node_2_content\": \"rgba(255.0, 13.0, 87.0, 1.0)\", \"jlgyufldhtdwdrtllggl_input_node_3_content\": \"rgba(30.0, 136.0, 229.0, 0.282669835611012)\", \"jlgyufldhtdwdrtllggl_input_node_4_content\": \"rgba(230.2941176470614, 26.505882352939775, 102.59215686274348, 0.0)\"}, \"jlgyufldhtdwdrtllggl_output_flat_token_4\": {\"jlgyufldhtdwdrtllggl_input_node_0_content\": \"rgba(54.70588235294111, 122.49411764705886, 213.40784313725496, 0.0)\", \"jlgyufldhtdwdrtllggl_input_node_1_content\": \"rgba(30.0, 136.0, 229.0, 0.03042186571598325)\", \"jlgyufldhtdwdrtllggl_input_node_2_content\": \"rgba(30.0, 136.0, 229.0, 0.3772628243216478)\", \"jlgyufldhtdwdrtllggl_input_node_3_content\": \"rgba(30.0, 136.0, 229.0, 0.16442859972271748)\", \"jlgyufldhtdwdrtllggl_input_node_4_content\": \"rgba(54.70588235294111, 122.49411764705886, 213.40784313725496, 0.0)\"}, \"jlgyufldhtdwdrtllggl_output_flat_token_5\": {\"jlgyufldhtdwdrtllggl_input_node_0_content\": \"rgba(230.2941176470614, 26.505882352939775, 102.59215686274348, 0.0)\", \"jlgyufldhtdwdrtllggl_input_node_1_content\": \"rgba(30.0, 136.0, 229.0, 0.22749059219647463)\", \"jlgyufldhtdwdrtllggl_input_node_2_content\": \"rgba(30.0, 136.0, 229.0, 0.23537334125569417)\", \"jlgyufldhtdwdrtllggl_input_node_3_content\": \"rgba(30.0, 136.0, 229.0, 0.36149732620320846)\", \"jlgyufldhtdwdrtllggl_input_node_4_content\": \"rgba(230.2941176470614, 26.505882352939775, 102.59215686274348, 0.0)\"}}\n",
       " shap_values_jlgyufldhtdwdrtllggl = {\"jlgyufldhtdwdrtllggl_input_node_0_content\": {\"jlgyufldhtdwdrtllggl_output_flat_value_label_0\": -0.0, \"jlgyufldhtdwdrtllggl_output_flat_value_label_1\": -0.0, \"jlgyufldhtdwdrtllggl_output_flat_value_label_2\": 0.0, \"jlgyufldhtdwdrtllggl_output_flat_value_label_3\": 0.0, \"jlgyufldhtdwdrtllggl_output_flat_value_label_4\": -0.0, \"jlgyufldhtdwdrtllggl_output_flat_value_label_5\": 0.0}, \"jlgyufldhtdwdrtllggl_input_node_1_content\": {\"jlgyufldhtdwdrtllggl_output_flat_value_label_0\": 0.63, \"jlgyufldhtdwdrtllggl_output_flat_value_label_1\": -1.2, \"jlgyufldhtdwdrtllggl_output_flat_value_label_2\": -1.166, \"jlgyufldhtdwdrtllggl_output_flat_value_label_3\": -0.771, \"jlgyufldhtdwdrtllggl_output_flat_value_label_4\": -0.137, \"jlgyufldhtdwdrtllggl_output_flat_value_label_5\": -0.958}, \"jlgyufldhtdwdrtllggl_input_node_2_content\": {\"jlgyufldhtdwdrtllggl_output_flat_value_label_0\": -1.74, \"jlgyufldhtdwdrtllggl_output_flat_value_label_1\": 0.975, \"jlgyufldhtdwdrtllggl_output_flat_value_label_2\": -0.767, \"jlgyufldhtdwdrtllggl_output_flat_value_label_3\": 4.113, \"jlgyufldhtdwdrtllggl_output_flat_value_label_4\": -1.55, \"jlgyufldhtdwdrtllggl_output_flat_value_label_5\": -0.979}, \"jlgyufldhtdwdrtllggl_input_node_3_content\": {\"jlgyufldhtdwdrtllggl_output_flat_value_label_0\": 1.274, \"jlgyufldhtdwdrtllggl_output_flat_value_label_1\": -1.862, \"jlgyufldhtdwdrtllggl_output_flat_value_label_2\": -1.121, \"jlgyufldhtdwdrtllggl_output_flat_value_label_3\": -1.179, \"jlgyufldhtdwdrtllggl_output_flat_value_label_4\": -0.702, \"jlgyufldhtdwdrtllggl_output_flat_value_label_5\": -1.491}, \"jlgyufldhtdwdrtllggl_input_node_4_content\": {\"jlgyufldhtdwdrtllggl_output_flat_value_label_0\": -0.0, \"jlgyufldhtdwdrtllggl_output_flat_value_label_1\": -0.0, \"jlgyufldhtdwdrtllggl_output_flat_value_label_2\": 0.0, \"jlgyufldhtdwdrtllggl_output_flat_value_label_3\": 0.0, \"jlgyufldhtdwdrtllggl_output_flat_value_label_4\": -0.0, \"jlgyufldhtdwdrtllggl_output_flat_value_label_5\": 0.0}, \"jlgyufldhtdwdrtllggl_output_flat_token_0\": {\"jlgyufldhtdwdrtllggl_input_node_0_label\": \"-0.0\", \"jlgyufldhtdwdrtllggl_input_node_1_label\": \"0.63\", \"jlgyufldhtdwdrtllggl_input_node_2_label\": \"-1.74\", \"jlgyufldhtdwdrtllggl_input_node_3_label\": \"1.274\", \"jlgyufldhtdwdrtllggl_input_node_4_label\": \"-0.0\"}, \"jlgyufldhtdwdrtllggl_output_flat_token_1\": {\"jlgyufldhtdwdrtllggl_input_node_0_label\": \"-0.0\", \"jlgyufldhtdwdrtllggl_input_node_1_label\": \"-1.2\", \"jlgyufldhtdwdrtllggl_input_node_2_label\": \"0.975\", \"jlgyufldhtdwdrtllggl_input_node_3_label\": \"-1.862\", \"jlgyufldhtdwdrtllggl_input_node_4_label\": \"-0.0\"}, \"jlgyufldhtdwdrtllggl_output_flat_token_2\": {\"jlgyufldhtdwdrtllggl_input_node_0_label\": \"0.0\", \"jlgyufldhtdwdrtllggl_input_node_1_label\": \"-1.166\", \"jlgyufldhtdwdrtllggl_input_node_2_label\": \"-0.767\", \"jlgyufldhtdwdrtllggl_input_node_3_label\": \"-1.121\", \"jlgyufldhtdwdrtllggl_input_node_4_label\": \"0.0\"}, \"jlgyufldhtdwdrtllggl_output_flat_token_3\": {\"jlgyufldhtdwdrtllggl_input_node_0_label\": \"0.0\", \"jlgyufldhtdwdrtllggl_input_node_1_label\": \"-0.771\", \"jlgyufldhtdwdrtllggl_input_node_2_label\": \"4.113\", \"jlgyufldhtdwdrtllggl_input_node_3_label\": \"-1.179\", \"jlgyufldhtdwdrtllggl_input_node_4_label\": \"0.0\"}, \"jlgyufldhtdwdrtllggl_output_flat_token_4\": {\"jlgyufldhtdwdrtllggl_input_node_0_label\": \"-0.0\", \"jlgyufldhtdwdrtllggl_input_node_1_label\": \"-0.137\", \"jlgyufldhtdwdrtllggl_input_node_2_label\": \"-1.55\", \"jlgyufldhtdwdrtllggl_input_node_3_label\": \"-0.702\", \"jlgyufldhtdwdrtllggl_input_node_4_label\": \"-0.0\"}, \"jlgyufldhtdwdrtllggl_output_flat_token_5\": {\"jlgyufldhtdwdrtllggl_input_node_0_label\": \"0.0\", \"jlgyufldhtdwdrtllggl_input_node_1_label\": \"-0.958\", \"jlgyufldhtdwdrtllggl_input_node_2_label\": \"-0.979\", \"jlgyufldhtdwdrtllggl_input_node_3_label\": \"-1.491\", \"jlgyufldhtdwdrtllggl_input_node_4_label\": \"0.0\"}}\n",
       " token_id_to_node_id_mapping_jlgyufldhtdwdrtllggl = {\"jlgyufldhtdwdrtllggl_output_flat_token_0\": {\"jlgyufldhtdwdrtllggl_input_node_0_content\": \"jlgyufldhtdwdrtllggl_input_node_0_content\", \"jlgyufldhtdwdrtllggl_input_node_1_content\": \"jlgyufldhtdwdrtllggl_input_node_1_content\", \"jlgyufldhtdwdrtllggl_input_node_2_content\": \"jlgyufldhtdwdrtllggl_input_node_2_content\", \"jlgyufldhtdwdrtllggl_input_node_3_content\": \"jlgyufldhtdwdrtllggl_input_node_3_content\", \"jlgyufldhtdwdrtllggl_input_node_4_content\": \"jlgyufldhtdwdrtllggl_input_node_4_content\"}, \"jlgyufldhtdwdrtllggl_output_flat_token_1\": {\"jlgyufldhtdwdrtllggl_input_node_0_content\": \"jlgyufldhtdwdrtllggl_input_node_0_content\", \"jlgyufldhtdwdrtllggl_input_node_1_content\": \"jlgyufldhtdwdrtllggl_input_node_1_content\", \"jlgyufldhtdwdrtllggl_input_node_2_content\": \"jlgyufldhtdwdrtllggl_input_node_2_content\", \"jlgyufldhtdwdrtllggl_input_node_3_content\": \"jlgyufldhtdwdrtllggl_input_node_3_content\", \"jlgyufldhtdwdrtllggl_input_node_4_content\": \"jlgyufldhtdwdrtllggl_input_node_4_content\"}, \"jlgyufldhtdwdrtllggl_output_flat_token_2\": {\"jlgyufldhtdwdrtllggl_input_node_0_content\": \"jlgyufldhtdwdrtllggl_input_node_0_content\", \"jlgyufldhtdwdrtllggl_input_node_1_content\": \"jlgyufldhtdwdrtllggl_input_node_1_content\", \"jlgyufldhtdwdrtllggl_input_node_2_content\": \"jlgyufldhtdwdrtllggl_input_node_2_content\", \"jlgyufldhtdwdrtllggl_input_node_3_content\": \"jlgyufldhtdwdrtllggl_input_node_3_content\", \"jlgyufldhtdwdrtllggl_input_node_4_content\": \"jlgyufldhtdwdrtllggl_input_node_4_content\"}, \"jlgyufldhtdwdrtllggl_output_flat_token_3\": {\"jlgyufldhtdwdrtllggl_input_node_0_content\": \"jlgyufldhtdwdrtllggl_input_node_0_content\", \"jlgyufldhtdwdrtllggl_input_node_1_content\": \"jlgyufldhtdwdrtllggl_input_node_1_content\", \"jlgyufldhtdwdrtllggl_input_node_2_content\": \"jlgyufldhtdwdrtllggl_input_node_2_content\", \"jlgyufldhtdwdrtllggl_input_node_3_content\": \"jlgyufldhtdwdrtllggl_input_node_3_content\", \"jlgyufldhtdwdrtllggl_input_node_4_content\": \"jlgyufldhtdwdrtllggl_input_node_4_content\"}, \"jlgyufldhtdwdrtllggl_output_flat_token_4\": {\"jlgyufldhtdwdrtllggl_input_node_0_content\": \"jlgyufldhtdwdrtllggl_input_node_0_content\", \"jlgyufldhtdwdrtllggl_input_node_1_content\": \"jlgyufldhtdwdrtllggl_input_node_1_content\", \"jlgyufldhtdwdrtllggl_input_node_2_content\": \"jlgyufldhtdwdrtllggl_input_node_2_content\", \"jlgyufldhtdwdrtllggl_input_node_3_content\": \"jlgyufldhtdwdrtllggl_input_node_3_content\", \"jlgyufldhtdwdrtllggl_input_node_4_content\": \"jlgyufldhtdwdrtllggl_input_node_4_content\"}, \"jlgyufldhtdwdrtllggl_output_flat_token_5\": {\"jlgyufldhtdwdrtllggl_input_node_0_content\": \"jlgyufldhtdwdrtllggl_input_node_0_content\", \"jlgyufldhtdwdrtllggl_input_node_1_content\": \"jlgyufldhtdwdrtllggl_input_node_1_content\", \"jlgyufldhtdwdrtllggl_input_node_2_content\": \"jlgyufldhtdwdrtllggl_input_node_2_content\", \"jlgyufldhtdwdrtllggl_input_node_3_content\": \"jlgyufldhtdwdrtllggl_input_node_3_content\", \"jlgyufldhtdwdrtllggl_input_node_4_content\": \"jlgyufldhtdwdrtllggl_input_node_4_content\"}}\n",
       "</script> \n",
       " \n",
       "          </div>\n",
       "      </div>\n",
       "    </div>\n",
       "    </html>\n",
       "    "
      ],
      "text/plain": [
       "<IPython.core.display.HTML object>"
      ]
     },
     "metadata": {},
     "output_type": "display_data"
    }
   ],
   "source": [
    "shap.plots.text(shapley_values"
   ]
  },
  {
   "cell_type": "code",
   "execution_count": 112,
   "id": "2409fc5e-338f-4e11-91cc-41fc3be3af88",
   "metadata": {},
   "outputs": [
    {
     "data": {
      "text/plain": [
       ".values =\n",
       "array([[[-2.40098924e-07, -1.05155903e-07,  3.75390520e-07,\n",
       "          1.84047587e-07, -1.37568531e-07,  5.08966968e-07],\n",
       "        [ 6.29956226e-01, -1.20046559e+00, -1.16598193e+00,\n",
       "         -7.71311976e-01, -1.36735638e-01, -9.58040337e-01],\n",
       "        [-1.73975169e+00,  9.74946677e-01, -7.66823324e-01,\n",
       "          4.11299545e+00, -1.55047658e+00, -9.78854259e-01],\n",
       "        [ 1.27355249e+00, -1.86193595e+00, -1.12142307e+00,\n",
       "         -1.17859245e+00, -7.01668376e-01, -1.49074790e+00],\n",
       "        [-4.80197848e-07, -2.10311805e-07,  7.50781040e-07,\n",
       "          3.68095174e-07, -2.75137062e-07,  1.01793394e-06]]])\n",
       "\n",
       ".base_values =\n",
       "array([[ 0.30378321, -2.71189163, -2.06961581, -2.74985795, -2.13207448,\n",
       "        -2.38712821]])\n",
       "\n",
       ".data =\n",
       "array([['', 'ill ', 'kill ', 'you', '']], dtype='<U5')"
      ]
     },
     "execution_count": 112,
     "metadata": {},
     "output_type": "execute_result"
    }
   ],
   "source": [
    "shapley_values"
   ]
  },
  {
   "cell_type": "code",
   "execution_count": 114,
   "id": "9576718e-f25f-4ccf-910c-8b743f7ac017",
   "metadata": {},
   "outputs": [
    {
     "data": {
      "text/plain": [
       "array([ 1.84047587e-07, -7.71311976e-01,  4.11299545e+00, -1.17859245e+00,\n",
       "        3.68095174e-07])"
      ]
     },
     "execution_count": 114,
     "metadata": {},
     "output_type": "execute_result"
    }
   ],
   "source": [
    "shapley_values.values[0,:, 3]"
   ]
  },
  {
   "cell_type": "code",
   "execution_count": null,
   "id": "9c62a27b-d513-4688-bf6d-c7b247c7fd4c",
   "metadata": {},
   "outputs": [],
   "source": []
  }
 ],
 "metadata": {
  "kernelspec": {
   "display_name": "Python 3",
   "language": "python",
   "name": "python3"
  },
  "language_info": {
   "codemirror_mode": {
    "name": "ipython",
    "version": 3
   },
   "file_extension": ".py",
   "mimetype": "text/x-python",
   "name": "python",
   "nbconvert_exporter": "python",
   "pygments_lexer": "ipython3",
   "version": "3.9.9"
  }
 },
 "nbformat": 4,
 "nbformat_minor": 5
}
